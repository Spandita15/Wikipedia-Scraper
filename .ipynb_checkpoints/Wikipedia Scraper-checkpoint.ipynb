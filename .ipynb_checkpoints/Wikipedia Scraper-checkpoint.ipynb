{
 "cells": [
  {
   "cell_type": "markdown",
   "id": "43ae8ada-c523-4c31-87d7-5b83a9c84cc4",
   "metadata": {},
   "source": [
    "# Importing Libraries"
   ]
  },
  {
   "cell_type": "code",
   "execution_count": 1,
   "id": "f4f5ed6e-2106-48b8-a1d0-5ff73d9a4ef4",
   "metadata": {},
   "outputs": [],
   "source": [
    "import requests\n",
    "from bs4 import BeautifulSoup "
   ]
  },
  {
   "cell_type": "markdown",
   "id": "e646668f-6d56-4f16-8bab-b36dab0f9b79",
   "metadata": {},
   "source": [
    "# Requesting the Link"
   ]
  },
  {
   "cell_type": "code",
   "execution_count": 29,
   "id": "87f16789-ef34-4daa-8756-c614ca3b548f",
   "metadata": {},
   "outputs": [
    {
     "name": "stdin",
     "output_type": "stream",
     "text": [
      "Enter the topic :  Vidyut Jammwal\n"
     ]
    }
   ],
   "source": [
    "title = str(input(\"Enter the topic : \")).replace(\" \",\"_\")\n",
    "link = \"https://en.wikipedia.org/wiki/\" + title # link will still even if the topic is mispelled\n",
    "res = requests.get(link)\n",
    "soup = BeautifulSoup(res.text, \"html.parser\")"
   ]
  },
  {
   "cell_type": "markdown",
   "id": "5cc97014-2735-4cf3-a5da-cae5eee3e835",
   "metadata": {},
   "source": [
    "# Scraping"
   ]
  },
  {
   "cell_type": "code",
   "execution_count": 30,
   "id": "e70a6848-9509-4980-9e42-7a4c9c9d09b3",
   "metadata": {},
   "outputs": [],
   "source": [
    "heading = soup.find(\"h1\").text\n",
    "corpus = \"\"\n",
    "for sp in soup.find_all(\"p\") :\n",
    "    corpus += sp.text\n",
    "    corpus += \"\\n\"\n",
    "corpus.strip()\n",
    "# to remove [1][2][3] .... that appearwith the text\n",
    "for i in range(1, 500) :\n",
    "    corpus = corpus.replace(\"[\" + str(i) + \"]\", \"\")"
   ]
  },
  {
   "cell_type": "markdown",
   "id": "f53722de-cd57-4417-b832-a41a10d8fcc6",
   "metadata": {},
   "source": [
    "# Saving file on the system"
   ]
  },
  {
   "cell_type": "code",
   "execution_count": 31,
   "id": "e77171b5-5cfa-496b-bcc2-c3d8d3faf75b",
   "metadata": {},
   "outputs": [],
   "source": [
    "fd = open(heading + \".txt\", \"w\", encoding = \"utf-8\")\n",
    "fd.write(corpus)\n",
    "fd.close()"
   ]
  }
 ],
 "metadata": {
  "kernelspec": {
   "display_name": "Python 3 (ipykernel)",
   "language": "python",
   "name": "python3"
  },
  "language_info": {
   "codemirror_mode": {
    "name": "ipython",
    "version": 3
   },
   "file_extension": ".py",
   "mimetype": "text/x-python",
   "name": "python",
   "nbconvert_exporter": "python",
   "pygments_lexer": "ipython3",
   "version": "3.11.7"
  }
 },
 "nbformat": 4,
 "nbformat_minor": 5
}
